{
  "nbformat": 4,
  "nbformat_minor": 0,
  "metadata": {
    "colab": {
      "provenance": []
    },
    "kernelspec": {
      "name": "python3",
      "display_name": "Python 3"
    },
    "language_info": {
      "name": "python"
    }
  },
  "cells": [
    {
      "cell_type": "markdown",
      "source": [
        "# Welcome to the ScaleDown Compression Workshop!\n",
        "\n",
        "In this workshop, you'll compete to compress prompts to different target percentages,\n",
        "then use ScaleDown API to achieve even better compression ratios.\n",
        "\n",
        "## Workshop Structure:\n",
        "1. Setup and installation\n",
        "2. Manual compression challenges (3 rounds)\n",
        "3. ScaleDown API compression comparison\n",
        "4. Final leaderboard and analysis\n",
        "\n",
        "## Competition Rules:\n",
        "- Try to compress prompts to target percentages manually first\n",
        "- Then use ScaleDown to see how it compares\n",
        "- Token counting with tiktoken for precise measurement"
      ],
      "metadata": {
        "id": "rjzrDp6PkN9v"
      }
    },
    {
      "cell_type": "code",
      "execution_count": null,
      "metadata": {
        "id": "PsqlBv0djXOw"
      },
      "outputs": [],
      "source": [
        "!pip install tiktoken -q"
      ]
    },
    {
      "cell_type": "code",
      "source": [
        "import tiktoken\n",
        "import requests\n",
        "import json\n",
        "import os\n",
        "from typing import Dict, List, Tuple\n",
        "import pandas as pd\n",
        "from datetime import datetime"
      ],
      "metadata": {
        "id": "pDDDZevVkVnz"
      },
      "execution_count": null,
      "outputs": []
    },
    {
      "cell_type": "code",
      "source": [
        "# Initialize the tokenizer (using GPT-4 encoding as standard)\n",
        "encoding = tiktoken.encoding_for_model(\"gpt-4\")"
      ],
      "metadata": {
        "id": "6g66Bg0BkZzJ"
      },
      "execution_count": null,
      "outputs": []
    },
    {
      "cell_type": "code",
      "source": [
        "def count_tokens(text: str) -> int:\n",
        "    \"\"\"Count tokens in a text string using tiktoken.\"\"\"\n",
        "    return len(encoding.encode(text))\n",
        "\n",
        "def calculate_compression_ratio(original: str, compressed: str) -> float:\n",
        "    \"\"\"Calculate compression ratio as percentage.\"\"\"\n",
        "    original_tokens = count_tokens(original)\n",
        "    compressed_tokens = count_tokens(compressed)\n",
        "    if original_tokens == 0:\n",
        "        return 0.0\n",
        "    return (compressed_tokens / original_tokens) * 100\n",
        "\n",
        "def display_comparison(original: str, manual: str, scaledown_compressed: str, target: float):\n",
        "    \"\"\"Display side-by-side comparison of manual vs ScaleDown compression.\"\"\"\n",
        "\n",
        "    orig_tokens = count_tokens(original)\n",
        "    manual_tokens = count_tokens(manual)\n",
        "    scaledown_tokens = count_tokens(scaledown_compressed)\n",
        "\n",
        "    manual_ratio = calculate_compression_ratio(original, manual)\n",
        "    scaledown_ratio = calculate_compression_ratio(original, scaledown_compressed)\n",
        "\n",
        "    print(f\"🎯 TARGET: {target}% compression\")\n",
        "    print(f\"{'='*80}\")\n",
        "    print(f\"📊 RESULTS COMPARISON:\")\n",
        "    print(f\"{'Method':<15}{'Tokens':<10}{'Ratio':<12}{'Accuracy':<12}{'Token Savings'}\")\n",
        "    print(f\"{'-'*65}\")\n",
        "    print(f\"{'Original':<15}{orig_tokens:<10}{100.0:<12.1f}{'-':<12}{'-'}\")\n",
        "    print(f\"{'Your Manual':<15}{manual_tokens:<10}{manual_ratio:<12.1f}{100-abs(manual_ratio-target):<12.1f}{orig_tokens-manual_tokens}\")\n",
        "    print(f\"{'ScaleDown':<15}{scaledown_tokens:<10}{scaledown_ratio:<12.1f}{100-abs(scaledown_ratio-target):<12.1f}{orig_tokens-scaledown_tokens}\")\n",
        "    print(f\"{'='*80}\")\n",
        "\n",
        "    # Show the compressed texts\n",
        "    print(f\"\\n📝 YOUR COMPRESSION:\")\n",
        "    print(f\"{manual}\\n\")\n",
        "    print(f\"🤖 SCALEDOWN COMPRESSION:\")\n",
        "    print(f\"{scaledown_compressed}\\n\")"
      ],
      "metadata": {
        "id": "l_cQ4GvukabB"
      },
      "execution_count": null,
      "outputs": []
    },
    {
      "cell_type": "markdown",
      "source": [
        "## SCALEDOWN API SETUP"
      ],
      "metadata": {
        "id": "x1SCA6A-kjSG"
      }
    },
    {
      "cell_type": "code",
      "source": [
        "SCALEDOWN_API_KEY = \"your key\"  # 🔑 Add your API key here!\n",
        "\n",
        "# ScaleDown API configuration\n",
        "SCALEDOWN_URL = \"https://api.scaledown.xyz/compress/raw\""
      ],
      "metadata": {
        "id": "zsteBIZPkfCJ"
      },
      "execution_count": null,
      "outputs": []
    },
    {
      "cell_type": "code",
      "source": [
        "def compress_with_scaledown(prompt: str, compression_rate: float, model: str = \"gpt-4-turbo\") -> Dict:\n",
        "    \"\"\"\n",
        "    Compress a prompt using ScaleDown API.\n",
        "\n",
        "    Args:\n",
        "        prompt: The text to compress\n",
        "        compression_rate: Compression rate (0.1 = 10%, 0.9 = 90%)\n",
        "        model: AI model to use\n",
        "\n",
        "    Returns:\n",
        "        Dictionary with compression results\n",
        "    \"\"\"\n",
        "    headers = {\n",
        "        'x-api-key': SCALEDOWN_API_KEY,\n",
        "        'Content-Type': 'application/json'\n",
        "    }\n",
        "\n",
        "    payload = {\n",
        "        \"prompt\": prompt,\n",
        "        \"model\": model,\n",
        "        \"scaledown\": {\n",
        "            \"rate\": compression_rate\n",
        "        }\n",
        "    }\n",
        "\n",
        "    try:\n",
        "        response = requests.post(SCALEDOWN_URL, headers=headers, data=json.dumps(payload))\n",
        "        response.raise_for_status()\n",
        "        result = response.json()\n",
        "        return {\n",
        "            \"success\": True,\n",
        "            \"compressed_prompt\": result.get(\"compressed_prompt\", \"\"),\n",
        "            \"original_tokens\": count_tokens(prompt),\n",
        "            \"compressed_tokens\": count_tokens(result.get(\"compressed_prompt\", \"\")),\n",
        "            \"compression_ratio\": calculate_compression_ratio(prompt, result.get(\"compressed_prompt\", \"\")),\n",
        "            \"api_response\": result\n",
        "        }\n",
        "    except requests.exceptions.RequestException as e:\n",
        "        return {\n",
        "            \"success\": False,\n",
        "            \"error\": str(e),\n",
        "            \"original_tokens\": count_tokens(prompt),\n",
        "            \"compressed_tokens\": 0,\n",
        "            \"compression_ratio\": 0\n",
        "        }"
      ],
      "metadata": {
        "id": "lQtxyNMjkqE-"
      },
      "execution_count": null,
      "outputs": []
    },
    {
      "cell_type": "markdown",
      "source": [
        "## Level 1: 30% Compression"
      ],
      "metadata": {
        "id": "3uIeWkIVluEb"
      }
    },
    {
      "cell_type": "code",
      "source": [
        "PROMPT_1 = \"\"\"You are a helpful AI assistant designed to provide comprehensive and detailed responses to user queries. Your primary objective is to understand the user's intent, analyze their request thoroughly, and deliver accurate, well-structured, and informative answers. You should always strive to be clear, concise, and helpful while maintaining a professional yet friendly tone. When responding to questions, please consider multiple perspectives, provide relevant examples when appropriate, and ensure that your explanations are accessible to users with varying levels of expertise on the topic. If you encounter ambiguous requests, feel free to ask clarifying questions to better understand what the user is looking for. Additionally, always fact-check your responses and acknowledge when you're uncertain about specific details or when information might be subject to change.\"\"\""
      ],
      "metadata": {
        "id": "5DeiR6dC9uKl"
      },
      "execution_count": null,
      "outputs": []
    },
    {
      "cell_type": "code",
      "source": [
        "print(\"🥉 CHALLENGE 1: BRONZE LEVEL - 30% COMPRESSION\")\n",
        "print(\"=\"*60)\n",
        "print(f\"Original prompt ({count_tokens(PROMPT_1)} tokens):\")\n",
        "print(f'\"{PROMPT_1}\"')\n",
        "print(f\"\\n🎯 YOUR TASK: Compress this prompt to approximately 70% of its original length\")\n",
        "print(f\"Target tokens: ~{int(count_tokens(PROMPT_1) * 0.7)} tokens\")"
      ],
      "metadata": {
        "id": "gbZSvQMZmAxg"
      },
      "execution_count": null,
      "outputs": []
    },
    {
      "cell_type": "code",
      "source": [
        "# 👇 EDIT THIS: Replace with your compressed version\n",
        "YOUR_COMPRESSION_1 = \"\"\"You are a helpful AI assistant that provides comprehensive, detailed responses to user queries. Your objective is to understand user intent, analyze requests thoroughly, and deliver accurate, well-structured answers. Be clear, concise, and helpful while maintaining a professional yet friendly tone. Consider multiple perspectives, provide relevant examples, and ensure explanations are accessible to users with varying expertise levels. Ask clarifying questions for ambiguous requests, fact-check responses, and acknowledge uncertainty when appropriate.\"\"\"\n"
      ],
      "metadata": {
        "id": "VkmF92qp94a3"
      },
      "execution_count": null,
      "outputs": []
    },
    {
      "cell_type": "code",
      "source": [
        "# Compare with ScaleDown\n",
        "scaledown_result_1 = compress_with_scaledown(PROMPT_1, 0.3)  # 0.3 rate = ~30% compression\n",
        "display_comparison(PROMPT_1, YOUR_COMPRESSION_1, scaledown_result_1[\"compressed_prompt\"], 30.0)"
      ],
      "metadata": {
        "id": "PCPH58fz97xp"
      },
      "execution_count": null,
      "outputs": []
    },
    {
      "cell_type": "markdown",
      "source": [
        "## Level 2: 50% Compression"
      ],
      "metadata": {
        "id": "pTpVkk2I9_ej"
      }
    },
    {
      "cell_type": "code",
      "source": [
        "# Original prompt for Challenge 2\n",
        "PROMPT_2 = \"\"\"As an expert data analyst and business intelligence specialist, your role involves examining complex datasets, identifying meaningful patterns and trends, generating actionable insights, and presenting findings in a clear and compelling manner to stakeholders across different organizational levels. You should be proficient in statistical analysis, data visualization techniques, and various analytical methodologies including regression analysis, clustering, time series analysis, and predictive modeling. When working with data, always ensure you validate your assumptions, check for data quality issues such as missing values or outliers, and consider the broader business context when interpreting results. Your analysis should be thorough yet accessible, providing both high-level summaries for executives and detailed technical explanations for analysts and data scientists. Additionally, you should be prepared to recommend specific actions based on your findings and help organizations make data-driven decisions that align with their strategic objectives and operational requirements.\"\"\""
      ],
      "metadata": {
        "id": "092EPRS6-DUU"
      },
      "execution_count": null,
      "outputs": []
    },
    {
      "cell_type": "code",
      "source": [
        "print(\"\\n\" + \"=\"*80)\n",
        "print(\"🥈 CHALLENGE 2: SILVER LEVEL - 50% COMPRESSION\")\n",
        "print(\"=\"*60)\n",
        "print(f\"Original prompt ({count_tokens(PROMPT_2)} tokens):\")\n",
        "print(f'\"{PROMPT_2}\"')\n",
        "print(f\"\\n🎯 YOUR TASK: Compress this prompt to approximately 50% of its original length\")\n",
        "print(f\"Target tokens: ~{int(count_tokens(PROMPT_2) * 0.5)} tokens\")\n"
      ],
      "metadata": {
        "id": "9Kd5f0Pv-Hee"
      },
      "execution_count": null,
      "outputs": []
    },
    {
      "cell_type": "code",
      "source": [
        "# 👇 EDIT THIS: Replace with your compressed version\n",
        "YOUR_COMPRESSION_2 = \"\"\"As an expert data analyst, examine datasets, identify patterns, generate insights, and present findings clearly to stakeholders. Be proficient in statistical analysis, visualization, regression, clustering, time series, and predictive modeling. Validate assumptions, check data quality, consider business context. Provide high-level summaries for executives and technical details for analysts. Recommend actions and help organizations make data-driven decisions.\"\"\"\n"
      ],
      "metadata": {
        "id": "YjhERlRO-If-"
      },
      "execution_count": null,
      "outputs": []
    },
    {
      "cell_type": "code",
      "source": [
        "# Compare with ScaleDown\n",
        "scaledown_result_2 = compress_with_scaledown(PROMPT_2, 0.5)  # 0.5 rate = ~50% compression\n",
        "display_comparison(PROMPT_2, YOUR_COMPRESSION_2, scaledown_result_2[\"compressed_prompt\"], 50.0)"
      ],
      "metadata": {
        "id": "XwXU928umLnS"
      },
      "execution_count": null,
      "outputs": []
    },
    {
      "cell_type": "markdown",
      "source": [
        "## Level 3: 70% Compression"
      ],
      "metadata": {
        "id": "AWBv_LIi-MIb"
      }
    },
    {
      "cell_type": "code",
      "source": [
        "# Original prompt for Challenge 3\n",
        "PROMPT_3 = \"\"\"You are an advanced artificial intelligence system specifically designed to function as a comprehensive research assistant and knowledge synthesis expert. Your capabilities encompass a wide range of academic and professional domains, including but not limited to scientific research, literary analysis, historical investigation, technological innovation, business strategy development, and creative problem-solving methodologies. When approached with complex research queries or analytical tasks, you should demonstrate the ability to break down multifaceted problems into manageable components, conduct thorough examination of available information from multiple authoritative sources, synthesize findings into coherent and well-structured presentations, and provide nuanced insights that account for various perspectives and potential limitations in the available data. Your responses should reflect not only factual accuracy but also critical thinking skills, methodological rigor, and an understanding of the broader implications of the research findings. Furthermore, you should be capable of adapting your communication style to match the needs and expertise level of your audience, whether they are undergraduate students seeking foundational understanding, graduate researchers requiring detailed technical analysis, or industry professionals looking for practical applications of theoretical concepts. In all interactions, maintain the highest standards of intellectual integrity, acknowledge uncertainties and limitations in available knowledge, and provide clear citations or references when drawing upon specific sources of information.\"\"\"\n"
      ],
      "metadata": {
        "id": "7YHwzUew-PUV"
      },
      "execution_count": null,
      "outputs": []
    },
    {
      "cell_type": "code",
      "source": [
        "print(\"\\n\" + \"=\"*80)\n",
        "print(\"🥇 CHALLENGE 3: GOLD LEVEL - 70% COMPRESSION\")\n",
        "print(\"=\"*60)\n",
        "print(f\"Original prompt ({count_tokens(PROMPT_3)} tokens):\")\n",
        "print(f'\"{PROMPT_3}\"')\n",
        "print(f\"\\n🎯 YOUR TASK: Compress this prompt to approximately 30% of its original length\")\n",
        "print(f\"Target tokens: ~{int(count_tokens(PROMPT_3) * 0.3)} tokens\")"
      ],
      "metadata": {
        "id": "budjBtes-RZC"
      },
      "execution_count": null,
      "outputs": []
    },
    {
      "cell_type": "code",
      "source": [
        "# 👇 EDIT THIS: Replace with your compressed version\n",
        "YOUR_COMPRESSION_3 = \"\"\"Advanced AI research assistant and knowledge synthesis expert across academic and professional domains. Break down complex problems, examine authoritative sources, synthesize findings, provide nuanced insights. Demonstrate critical thinking, methodological rigor, adapt communication to audience expertise level. Maintain intellectual integrity, acknowledge limitations, provide citations.\"\"\"\n"
      ],
      "metadata": {
        "id": "Rlr24Ojt-UZ4"
      },
      "execution_count": null,
      "outputs": []
    },
    {
      "cell_type": "code",
      "source": [
        "# Compare with ScaleDown\n",
        "scaledown_result_3 = compress_with_scaledown(PROMPT_3, 0.7)  # 0.7 rate = ~70% compression\n",
        "display_comparison(PROMPT_3, YOUR_COMPRESSION_3, scaledown_result_3[\"compressed_prompt\"], 70.0)"
      ],
      "metadata": {
        "id": "yM0ZETzCoW5l"
      },
      "execution_count": null,
      "outputs": []
    },
    {
      "cell_type": "markdown",
      "source": [
        "## Results!"
      ],
      "metadata": {
        "id": "Y3H5VQL--XNi"
      }
    },
    {
      "cell_type": "code",
      "source": [
        "print(\"\\n\" + \"🎉 WORKSHOP COMPLETE! 🎉\")\n",
        "print(\"=\"*50)\n",
        "print(\"📊 YOUR PERFORMANCE SUMMARY:\")\n",
        "\n",
        "challenges = [\n",
        "    (\"Challenge 1 (30%)\", PROMPT_1, YOUR_COMPRESSION_1, 70.0),\n",
        "    (\"Challenge 2 (50%)\", PROMPT_2, YOUR_COMPRESSION_2, 50.0),\n",
        "    (\"Challenge 3 (70%)\", PROMPT_3, YOUR_COMPRESSION_3, 30.0)\n",
        "]\n",
        "\n",
        "total_accuracy = 0\n",
        "for name, original, compressed, target in challenges:\n",
        "    actual = calculate_compression_ratio(original, compressed)\n",
        "    accuracy = 100 - abs(actual - target)\n",
        "    total_accuracy += accuracy\n",
        "    print(f\"{name}: {actual:.1f}% compression)\")"
      ],
      "metadata": {
        "id": "CtaTonYgoIsV"
      },
      "execution_count": null,
      "outputs": []
    },
    {
      "cell_type": "code",
      "source": [],
      "metadata": {
        "id": "D0OfRmg_omtV"
      },
      "execution_count": null,
      "outputs": []
    }
  ]
}
